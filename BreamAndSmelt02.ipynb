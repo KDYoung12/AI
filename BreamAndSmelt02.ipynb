{
  "nbformat": 4,
  "nbformat_minor": 0,
  "metadata": {
    "colab": {
      "provenance": [],
      "collapsed_sections": [],
      "authorship_tag": "ABX9TyObb97bGK5GLt3ZYCkPuIpS",
      "include_colab_link": true
    },
    "kernelspec": {
      "name": "python3",
      "display_name": "Python 3"
    },
    "language_info": {
      "name": "python"
    }
  },
  "cells": [
    {
      "cell_type": "markdown",
      "metadata": {
        "id": "view-in-github",
        "colab_type": "text"
      },
      "source": [
        "<a href=\"https://colab.research.google.com/github/KDYoung12/AI/blob/main/BreamAndSmelt02.ipynb\" target=\"_parent\"><img src=\"https://colab.research.google.com/assets/colab-badge.svg\" alt=\"Open In Colab\"/></a>"
      ]
    },
    {
      "cell_type": "code",
      "execution_count": 12,
      "metadata": {
        "colab": {
          "base_uri": "https://localhost:8080/"
        },
        "id": "acSqLjzfUa7K",
        "outputId": "1774802b-02a6-4db7-aebc-bc3654182895"
      },
      "outputs": [
        {
          "output_type": "stream",
          "name": "stdout",
          "text": [
            "[1. 1. 1. 1. 1.]\n",
            "[1. 1. 1. 1. 1. 1. 1. 1. 1. 1. 1. 1. 1. 1. 1. 1. 1. 1. 1. 1. 1. 1. 1. 1.\n",
            " 1. 1. 1. 1. 1. 1. 1. 1. 1. 1. 1. 0. 0. 0. 0. 0. 0. 0. 0. 0. 0. 0. 0. 0.\n",
            " 0.]\n"
          ]
        }
      ],
      "source": [
        "# 넘파이로 데이터 준비하기\n",
        "import numpy as np # 넘파이\n",
        "fish_length = [25.4, 26.3, 26.5, 29.0, 29.0, 29.7, 29.7, 30.0, 30.0, 30.7, 31.0, 31.0, \n",
        "                31.5, 32.0, 32.0, 32.0, 33.0, 33.0, 33.5, 33.5, 34.0, 34.0, 34.5, 35.0, \n",
        "                35.0, 35.0, 35.0, 36.0, 36.0, 37.0, 38.5, 38.5, 39.5, 41.0, 41.0, 9.8, \n",
        "                10.5, 10.6, 11.0, 11.2, 11.3, 11.8, 11.8, 12.0, 12.2, 12.4, 13.0, 14.3, 15.0]\n",
        "fish_weight = [242.0, 290.0, 340.0, 363.0, 430.0, 450.0, 500.0, 390.0, 450.0, 500.0, 475.0, 500.0, \n",
        "                500.0, 340.0, 600.0, 600.0, 700.0, 700.0, 610.0, 650.0, 575.0, 685.0, 620.0, 680.0, \n",
        "                700.0, 725.0, 720.0, 714.0, 850.0, 1000.0, 920.0, 955.0, 925.0, 975.0, 950.0, 6.7, \n",
        "                7.5, 7.0, 9.7, 9.8, 8.7, 10.0, 9.9, 9.8, 12.2, 13.4, 12.2, 19.7, 19.9]\n",
        "\n",
        "#np.column_stack(([1,2,3], [4,5,6])) # column_stack() 함수는 전달받은 리스트를 일렬로 세운 다음 차례대로 나란히 연결한다.\n",
        "# [1, 4],\n",
        "# [2, 5],\n",
        "# [3, 6]\n",
        "\n",
        "fish_data = np.column_stack((fish_length, fish_weight)) # fish_data에 fish_length와 fish_weight를 column_stack()함수로 일렬로 세워서 저장\n",
        "\n",
        "# ones() 함수는 원하는 개수의 1을 채움, zeros() 함수는 원하는 개수의 0을 채움\n",
        "print(np.ones(5))\n",
        "\n",
        "# concatenate() 함수는 1차원을 따라 배열을 연결한다.\n",
        "\n",
        "fish_target = np.concatenate((np.ones(35), np.zeros(14))) # 구분할 수 있는 타겟데이터 생성 (0과 1로 구분)\n",
        "print(fish_target)\n",
        "\n",
        "# 사이킷런으로 훈련 세트와 테스트 세트 만들기\n",
        "\n",
        "# train_test_split() 함수는 전달되는 리스트나 배열을 비율에 맞게 훈련 세트와 테스트 세트로 나뉘어 주는 함수\n",
        "from sklearn.model_selection import train_test_split\n",
        "\n",
        "train_input, test_input, train_target, test_target = train_test_split(fish_data, fish_target, random_state=42) # random_state는 train_test_split() 함수에서 자체적으로 랜덤 시드를 생성해주는 매개변수"
      ]
    }
  ]
}